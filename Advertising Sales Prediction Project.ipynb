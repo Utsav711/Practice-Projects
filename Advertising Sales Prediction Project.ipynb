{
 "cells": [
  {
   "cell_type": "markdown",
   "id": "5fd85365",
   "metadata": {},
   "source": [
    "# Advertising Sales Prediction Using regression "
   ]
  },
  {
   "cell_type": "code",
   "execution_count": 1,
   "id": "db657501",
   "metadata": {},
   "outputs": [],
   "source": [
    "import numpy as np\n",
    "import pandas as pd\n",
    "import scipy\n",
    "import seaborn as sns\n",
    "from sklearn.model_selection import train_test_split\n",
    "from sklearn.linear_model import LinearRegression\n",
    "import warnings\n",
    "warnings.filterwarnings('ignore')"
   ]
  },
  {
   "cell_type": "code",
   "execution_count": 14,
   "id": "c8fdd215",
   "metadata": {},
   "outputs": [],
   "source": [
    "import matplotlib.pyplot as plt"
   ]
  },
  {
   "cell_type": "code",
   "execution_count": 150,
   "id": "de3c1326",
   "metadata": {},
   "outputs": [],
   "source": [
    "df= pd.read_csv(\"Advertising.csv\")"
   ]
  },
  {
   "cell_type": "code",
   "execution_count": 3,
   "id": "57a3ba37",
   "metadata": {},
   "outputs": [
    {
     "data": {
      "text/html": [
       "<div>\n",
       "<style scoped>\n",
       "    .dataframe tbody tr th:only-of-type {\n",
       "        vertical-align: middle;\n",
       "    }\n",
       "\n",
       "    .dataframe tbody tr th {\n",
       "        vertical-align: top;\n",
       "    }\n",
       "\n",
       "    .dataframe thead th {\n",
       "        text-align: right;\n",
       "    }\n",
       "</style>\n",
       "<table border=\"1\" class=\"dataframe\">\n",
       "  <thead>\n",
       "    <tr style=\"text-align: right;\">\n",
       "      <th></th>\n",
       "      <th>Unnamed: 0</th>\n",
       "      <th>TV</th>\n",
       "      <th>radio</th>\n",
       "      <th>newspaper</th>\n",
       "      <th>sales</th>\n",
       "    </tr>\n",
       "  </thead>\n",
       "  <tbody>\n",
       "    <tr>\n",
       "      <th>0</th>\n",
       "      <td>1</td>\n",
       "      <td>230.1</td>\n",
       "      <td>37.8</td>\n",
       "      <td>69.2</td>\n",
       "      <td>22.1</td>\n",
       "    </tr>\n",
       "    <tr>\n",
       "      <th>1</th>\n",
       "      <td>2</td>\n",
       "      <td>44.5</td>\n",
       "      <td>39.3</td>\n",
       "      <td>45.1</td>\n",
       "      <td>10.4</td>\n",
       "    </tr>\n",
       "    <tr>\n",
       "      <th>2</th>\n",
       "      <td>3</td>\n",
       "      <td>17.2</td>\n",
       "      <td>45.9</td>\n",
       "      <td>69.3</td>\n",
       "      <td>9.3</td>\n",
       "    </tr>\n",
       "    <tr>\n",
       "      <th>3</th>\n",
       "      <td>4</td>\n",
       "      <td>151.5</td>\n",
       "      <td>41.3</td>\n",
       "      <td>58.5</td>\n",
       "      <td>18.5</td>\n",
       "    </tr>\n",
       "    <tr>\n",
       "      <th>4</th>\n",
       "      <td>5</td>\n",
       "      <td>180.8</td>\n",
       "      <td>10.8</td>\n",
       "      <td>58.4</td>\n",
       "      <td>12.9</td>\n",
       "    </tr>\n",
       "  </tbody>\n",
       "</table>\n",
       "</div>"
      ],
      "text/plain": [
       "   Unnamed: 0     TV  radio  newspaper  sales\n",
       "0           1  230.1   37.8       69.2   22.1\n",
       "1           2   44.5   39.3       45.1   10.4\n",
       "2           3   17.2   45.9       69.3    9.3\n",
       "3           4  151.5   41.3       58.5   18.5\n",
       "4           5  180.8   10.8       58.4   12.9"
      ]
     },
     "execution_count": 3,
     "metadata": {},
     "output_type": "execute_result"
    }
   ],
   "source": [
    "df.head()"
   ]
  },
  {
   "cell_type": "code",
   "execution_count": 4,
   "id": "5e892f3a",
   "metadata": {},
   "outputs": [
    {
     "data": {
      "text/html": [
       "<div>\n",
       "<style scoped>\n",
       "    .dataframe tbody tr th:only-of-type {\n",
       "        vertical-align: middle;\n",
       "    }\n",
       "\n",
       "    .dataframe tbody tr th {\n",
       "        vertical-align: top;\n",
       "    }\n",
       "\n",
       "    .dataframe thead th {\n",
       "        text-align: right;\n",
       "    }\n",
       "</style>\n",
       "<table border=\"1\" class=\"dataframe\">\n",
       "  <thead>\n",
       "    <tr style=\"text-align: right;\">\n",
       "      <th></th>\n",
       "      <th>Unnamed: 0</th>\n",
       "      <th>TV</th>\n",
       "      <th>radio</th>\n",
       "      <th>newspaper</th>\n",
       "      <th>sales</th>\n",
       "    </tr>\n",
       "  </thead>\n",
       "  <tbody>\n",
       "    <tr>\n",
       "      <th>195</th>\n",
       "      <td>196</td>\n",
       "      <td>38.2</td>\n",
       "      <td>3.7</td>\n",
       "      <td>13.8</td>\n",
       "      <td>7.6</td>\n",
       "    </tr>\n",
       "    <tr>\n",
       "      <th>196</th>\n",
       "      <td>197</td>\n",
       "      <td>94.2</td>\n",
       "      <td>4.9</td>\n",
       "      <td>8.1</td>\n",
       "      <td>9.7</td>\n",
       "    </tr>\n",
       "    <tr>\n",
       "      <th>197</th>\n",
       "      <td>198</td>\n",
       "      <td>177.0</td>\n",
       "      <td>9.3</td>\n",
       "      <td>6.4</td>\n",
       "      <td>12.8</td>\n",
       "    </tr>\n",
       "    <tr>\n",
       "      <th>198</th>\n",
       "      <td>199</td>\n",
       "      <td>283.6</td>\n",
       "      <td>42.0</td>\n",
       "      <td>66.2</td>\n",
       "      <td>25.5</td>\n",
       "    </tr>\n",
       "    <tr>\n",
       "      <th>199</th>\n",
       "      <td>200</td>\n",
       "      <td>232.1</td>\n",
       "      <td>8.6</td>\n",
       "      <td>8.7</td>\n",
       "      <td>13.4</td>\n",
       "    </tr>\n",
       "  </tbody>\n",
       "</table>\n",
       "</div>"
      ],
      "text/plain": [
       "     Unnamed: 0     TV  radio  newspaper  sales\n",
       "195         196   38.2    3.7       13.8    7.6\n",
       "196         197   94.2    4.9        8.1    9.7\n",
       "197         198  177.0    9.3        6.4   12.8\n",
       "198         199  283.6   42.0       66.2   25.5\n",
       "199         200  232.1    8.6        8.7   13.4"
      ]
     },
     "execution_count": 4,
     "metadata": {},
     "output_type": "execute_result"
    }
   ],
   "source": [
    "df.tail()"
   ]
  },
  {
   "cell_type": "code",
   "execution_count": 5,
   "id": "637239a3",
   "metadata": {},
   "outputs": [
    {
     "data": {
      "text/plain": [
       "(200, 5)"
      ]
     },
     "execution_count": 5,
     "metadata": {},
     "output_type": "execute_result"
    }
   ],
   "source": [
    "df.shape"
   ]
  },
  {
   "cell_type": "code",
   "execution_count": 41,
   "id": "0ef08271",
   "metadata": {},
   "outputs": [
    {
     "data": {
      "text/plain": [
       "Index(['Unnamed: 0', 'TV', 'radio', 'newspaper', 'sales'], dtype='object')"
      ]
     },
     "execution_count": 41,
     "metadata": {},
     "output_type": "execute_result"
    }
   ],
   "source": [
    "df.columns\n"
   ]
  },
  {
   "cell_type": "code",
   "execution_count": 6,
   "id": "f0cf3e13",
   "metadata": {},
   "outputs": [
    {
     "data": {
      "text/plain": [
       "Unnamed: 0    0\n",
       "TV            0\n",
       "radio         0\n",
       "newspaper     0\n",
       "sales         0\n",
       "dtype: int64"
      ]
     },
     "execution_count": 6,
     "metadata": {},
     "output_type": "execute_result"
    }
   ],
   "source": [
    "df.isnull().sum()"
   ]
  },
  {
   "cell_type": "markdown",
   "id": "dea8280b",
   "metadata": {},
   "source": [
    "So as there are no Null values present we can move onto the next step Data Analysis"
   ]
  },
  {
   "cell_type": "markdown",
   "id": "512b1980",
   "metadata": {},
   "source": [
    "Also, we can drop the unnamed column which is basically ithe index and the model will not learn any valueable information from it to create a model for prediction"
   ]
  },
  {
   "cell_type": "code",
   "execution_count": 155,
   "id": "cbbd8ccd",
   "metadata": {},
   "outputs": [],
   "source": [
    "df = df.drop(df.columns[0],axis=1)\n"
   ]
  },
  {
   "cell_type": "code",
   "execution_count": 76,
   "id": "bcab727b",
   "metadata": {},
   "outputs": [
    {
     "name": "stdout",
     "output_type": "stream",
     "text": [
      "<class 'pandas.core.frame.DataFrame'>\n",
      "RangeIndex: 200 entries, 0 to 199\n",
      "Data columns (total 4 columns):\n",
      " #   Column     Non-Null Count  Dtype  \n",
      "---  ------     --------------  -----  \n",
      " 0   TV         200 non-null    float64\n",
      " 1   radio      200 non-null    float64\n",
      " 2   newspaper  200 non-null    float64\n",
      " 3   sales      200 non-null    float64\n",
      "dtypes: float64(4)\n",
      "memory usage: 6.4 KB\n"
     ]
    }
   ],
   "source": [
    "df.info()"
   ]
  },
  {
   "cell_type": "markdown",
   "id": "42593e3d",
   "metadata": {},
   "source": [
    "# EDA:"
   ]
  },
  {
   "cell_type": "code",
   "execution_count": 52,
   "id": "91980102",
   "metadata": {},
   "outputs": [
    {
     "data": {
      "image/png": "[encoded data removed]",
      "text/plain": [
       "<Figure size 504x360 with 1 Axes>"
      ]
     },
     "metadata": {},
     "output_type": "display_data"
    },
    {
     "data": {
      "image/png": "[encoded data removed]",
      "text/plain": [
       "<Figure size 504x360 with 1 Axes>"
      ]
     },
     "metadata": {},
     "output_type": "display_data"
    },
    {
     "data": {
      "image/png": "[encoded data removed]",
      "text/plain": [
       "<Figure size 504x360 with 1 Axes>"
      ]
     },
     "metadata": {},
     "output_type": "display_data"
    }
   ],
   "source": [
    "\n",
    "for i in df.columns[:3]:\n",
    "    plt.figure(figsize=(7,5))\n",
    "    k = sns.distplot(df[i],kde=True)\n",
    "    plt.show()"
   ]
  },
  {
   "cell_type": "markdown",
   "id": "104ae247",
   "metadata": {},
   "source": [
    "We can infer from these graphs that feature variables have skewness and it needs to be rectified."
   ]
  },
  {
   "cell_type": "code",
   "execution_count": 104,
   "id": "627d05ba",
   "metadata": {},
   "outputs": [
    {
     "data": {
      "image/png": "[encoded data removed]",
      "text/plain": [
       "<Figure size 720x576 with 2 Axes>"
      ]
     },
     "metadata": {},
     "output_type": "display_data"
    }
   ],
   "source": [
    "\n",
    "plt.figure(figsize=(10, 8))\n",
    "sns.heatmap(df.corr(),cmap=\"Blues\",annot=True)\n",
    "plt.show()"
   ]
  },
  {
   "cell_type": "code",
   "execution_count": 65,
   "id": "1e9b5f05",
   "metadata": {},
   "outputs": [
    {
     "data": {
      "text/plain": [
       "<seaborn.axisgrid.PairGrid at 0x2b8b9f15d30>"
      ]
     },
     "execution_count": 65,
     "metadata": {},
     "output_type": "execute_result"
    },
    {
     "data": {
      "image/png": "[encoded data removed]",
      "text/plain": [
       "<Figure size 720x720 with 20 Axes>"
      ]
     },
     "metadata": {},
     "output_type": "display_data"
    }
   ],
   "source": [
    "sns.pairplot(df)"
   ]
  },
  {
   "cell_type": "markdown",
   "id": "98751f70",
   "metadata": {},
   "source": [
    "# Checking Outliers:"
   ]
  },
  {
   "cell_type": "code",
   "execution_count": 75,
   "id": "8e81e28d",
   "metadata": {},
   "outputs": [
    {
     "data": {
      "text/html": [
       "<div>\n",
       "<style scoped>\n",
       "    .dataframe tbody tr th:only-of-type {\n",
       "        vertical-align: middle;\n",
       "    }\n",
       "\n",
       "    .dataframe tbody tr th {\n",
       "        vertical-align: top;\n",
       "    }\n",
       "\n",
       "    .dataframe thead th {\n",
       "        text-align: right;\n",
       "    }\n",
       "</style>\n",
       "<table border=\"1\" class=\"dataframe\">\n",
       "  <thead>\n",
       "    <tr style=\"text-align: right;\">\n",
       "      <th></th>\n",
       "      <th>TV</th>\n",
       "      <th>radio</th>\n",
       "      <th>newspaper</th>\n",
       "      <th>sales</th>\n",
       "    </tr>\n",
       "  </thead>\n",
       "  <tbody>\n",
       "    <tr>\n",
       "      <th>count</th>\n",
       "      <td>200.000000</td>\n",
       "      <td>200.000000</td>\n",
       "      <td>200.000000</td>\n",
       "      <td>200.000000</td>\n",
       "    </tr>\n",
       "    <tr>\n",
       "      <th>mean</th>\n",
       "      <td>147.042500</td>\n",
       "      <td>23.264000</td>\n",
       "      <td>30.554000</td>\n",
       "      <td>14.022500</td>\n",
       "    </tr>\n",
       "    <tr>\n",
       "      <th>std</th>\n",
       "      <td>85.854236</td>\n",
       "      <td>14.846809</td>\n",
       "      <td>21.778621</td>\n",
       "      <td>5.217457</td>\n",
       "    </tr>\n",
       "    <tr>\n",
       "      <th>min</th>\n",
       "      <td>0.700000</td>\n",
       "      <td>0.000000</td>\n",
       "      <td>0.300000</td>\n",
       "      <td>1.600000</td>\n",
       "    </tr>\n",
       "    <tr>\n",
       "      <th>25%</th>\n",
       "      <td>74.375000</td>\n",
       "      <td>9.975000</td>\n",
       "      <td>12.750000</td>\n",
       "      <td>10.375000</td>\n",
       "    </tr>\n",
       "    <tr>\n",
       "      <th>50%</th>\n",
       "      <td>149.750000</td>\n",
       "      <td>22.900000</td>\n",
       "      <td>25.750000</td>\n",
       "      <td>12.900000</td>\n",
       "    </tr>\n",
       "    <tr>\n",
       "      <th>75%</th>\n",
       "      <td>218.825000</td>\n",
       "      <td>36.525000</td>\n",
       "      <td>45.100000</td>\n",
       "      <td>17.400000</td>\n",
       "    </tr>\n",
       "    <tr>\n",
       "      <th>max</th>\n",
       "      <td>296.400000</td>\n",
       "      <td>49.600000</td>\n",
       "      <td>114.000000</td>\n",
       "      <td>27.000000</td>\n",
       "    </tr>\n",
       "  </tbody>\n",
       "</table>\n",
       "</div>"
      ],
      "text/plain": [
       "               TV       radio   newspaper       sales\n",
       "count  200.000000  200.000000  200.000000  200.000000\n",
       "mean   147.042500   23.264000   30.554000   14.022500\n",
       "std     85.854236   14.846809   21.778621    5.217457\n",
       "min      0.700000    0.000000    0.300000    1.600000\n",
       "25%     74.375000    9.975000   12.750000   10.375000\n",
       "50%    149.750000   22.900000   25.750000   12.900000\n",
       "75%    218.825000   36.525000   45.100000   17.400000\n",
       "max    296.400000   49.600000  114.000000   27.000000"
      ]
     },
     "execution_count": 75,
     "metadata": {},
     "output_type": "execute_result"
    }
   ],
   "source": [
    "df.describe()"
   ]
  },
  {
   "cell_type": "code",
   "execution_count": 78,
   "id": "018df898",
   "metadata": {},
   "outputs": [
    {
     "data": {
      "image/png": "[encoded data removed]",
      "text/plain": [
       "<Figure size 216x216 with 1 Axes>"
      ]
     },
     "metadata": {},
     "output_type": "display_data"
    },
    {
     "data": {
      "image/png": "[encoded data removed]",
      "text/plain": [
       "<Figure size 432x288 with 1 Axes>"
      ]
     },
     "metadata": {},
     "output_type": "display_data"
    },
    {
     "data": {
      "image/png": "[encoded data removed]",
      "text/plain": [
       "<Figure size 432x288 with 1 Axes>"
      ]
     },
     "metadata": {},
     "output_type": "display_data"
    },
    {
     "data": {
      "image/png": "[encoded data removed]",
      "text/plain": [
       "<Figure size 432x288 with 1 Axes>"
      ]
     },
     "metadata": {},
     "output_type": "display_data"
    }
   ],
   "source": [
    "plt.figure(figsize=(3,3))\n",
    "for i in df.columns:\n",
    "    sns.boxplot(df[i])\n",
    "    plt.show()"
   ]
  },
  {
   "cell_type": "markdown",
   "id": "e6bbbc4d",
   "metadata": {},
   "source": [
    "As evident from the above plots, we have outliers present in the column of newspapers"
   ]
  },
  {
   "cell_type": "code",
   "execution_count": 151,
   "id": "a848d599",
   "metadata": {},
   "outputs": [],
   "source": [
    "from scipy import stats"
   ]
  },
  {
   "cell_type": "code",
   "execution_count": 156,
   "id": "f665e96d",
   "metadata": {},
   "outputs": [],
   "source": [
    "t = np.abs(stats.zscore(df))"
   ]
  },
  {
   "cell_type": "code",
   "execution_count": 157,
   "id": "ee18dbd9",
   "metadata": {},
   "outputs": [
    {
     "name": "stdout",
     "output_type": "stream",
     "text": [
      "(array([ 16, 101], dtype=int64), array([2, 2], dtype=int64))\n"
     ]
    }
   ],
   "source": [
    "print(np.where(t > 3))"
   ]
  },
  {
   "cell_type": "code",
   "execution_count": 158,
   "id": "0d75fe21",
   "metadata": {},
   "outputs": [
    {
     "data": {
      "text/plain": [
       "(200, 4)"
      ]
     },
     "execution_count": 158,
     "metadata": {},
     "output_type": "execute_result"
    }
   ],
   "source": [
    "t.shape"
   ]
  },
  {
   "cell_type": "code",
   "execution_count": 164,
   "id": "a93153fb",
   "metadata": {},
   "outputs": [],
   "source": [
    "df_new = df[(t < 3).all(axis=1)]"
   ]
  },
  {
   "cell_type": "code",
   "execution_count": 165,
   "id": "49262c88",
   "metadata": {},
   "outputs": [
    {
     "data": {
      "text/plain": [
       "(198, 4)"
      ]
     },
     "execution_count": 165,
     "metadata": {},
     "output_type": "execute_result"
    }
   ],
   "source": [
    "df_new.shape"
   ]
  },
  {
   "cell_type": "markdown",
   "id": "ef0c1b97",
   "metadata": {},
   "source": [
    "# Removing Skewness:"
   ]
  },
  {
   "cell_type": "code",
   "execution_count": 103,
   "id": "51ec1a5d",
   "metadata": {},
   "outputs": [
    {
     "data": {
      "text/plain": [
       "TV          -0.082332\n",
       "radio        0.114842\n",
       "newspaper    0.650112\n",
       "sales        0.407130\n",
       "dtype: float64"
      ]
     },
     "execution_count": 103,
     "metadata": {},
     "output_type": "execute_result"
    }
   ],
   "source": [
    "df_new.skew()"
   ]
  },
  {
   "cell_type": "markdown",
   "id": "92582144",
   "metadata": {},
   "source": [
    "As we can see the skewness in the newspaper column is above the permissible limit of +/= 0.5 so, we'll apply transformation to this column "
   ]
  },
  {
   "cell_type": "code",
   "execution_count": 105,
   "id": "2a8651a2",
   "metadata": {},
   "outputs": [],
   "source": [
    "df_new[\"newspaper\"]=np.sqrt(df_new[\"newspaper\"])\n"
   ]
  },
  {
   "cell_type": "code",
   "execution_count": 106,
   "id": "b1ce1167",
   "metadata": {},
   "outputs": [
    {
     "data": {
      "text/plain": [
       "TV          -0.082332\n",
       "radio        0.114842\n",
       "newspaper   -0.040649\n",
       "sales        0.407130\n",
       "dtype: float64"
      ]
     },
     "execution_count": 106,
     "metadata": {},
     "output_type": "execute_result"
    }
   ],
   "source": [
    "df_new.skew()"
   ]
  },
  {
   "cell_type": "markdown",
   "id": "ad58046f",
   "metadata": {},
   "source": [
    "We can see that all the columns have a compatible skewness."
   ]
  },
  {
   "cell_type": "markdown",
   "id": "360c91f5",
   "metadata": {},
   "source": [
    "# Checking Multicollinearity:"
   ]
  },
  {
   "cell_type": "code",
   "execution_count": 67,
   "id": "06b97ec2",
   "metadata": {},
   "outputs": [],
   "source": [
    "from statsmodels.stats.outliers_influence import variance_inflation_factor\n"
   ]
  },
  {
   "cell_type": "code",
   "execution_count": 109,
   "id": "1a8ec566",
   "metadata": {},
   "outputs": [],
   "source": [
    "# the independent variables set\n",
    "X = df_new.columns[:3]\n",
    "  \n",
    "# VIF dataframe\n",
    "vif_data = pd.DataFrame()\n",
    "vif_data[\"feature\"] = df_new.columns[:3]\n",
    "vif_data[\"VIF\"] = [variance_inflation_factor(df_new.values, i)\n",
    "                          for i in range(3)]\n"
   ]
  },
  {
   "cell_type": "code",
   "execution_count": 110,
   "id": "047bb7f7",
   "metadata": {},
   "outputs": [
    {
     "data": {
      "text/html": [
       "<div>\n",
       "<style scoped>\n",
       "    .dataframe tbody tr th:only-of-type {\n",
       "        vertical-align: middle;\n",
       "    }\n",
       "\n",
       "    .dataframe tbody tr th {\n",
       "        vertical-align: top;\n",
       "    }\n",
       "\n",
       "    .dataframe thead th {\n",
       "        text-align: right;\n",
       "    }\n",
       "</style>\n",
       "<table border=\"1\" class=\"dataframe\">\n",
       "  <thead>\n",
       "    <tr style=\"text-align: right;\">\n",
       "      <th></th>\n",
       "      <th>feature</th>\n",
       "      <th>VIF</th>\n",
       "    </tr>\n",
       "  </thead>\n",
       "  <tbody>\n",
       "    <tr>\n",
       "      <th>0</th>\n",
       "      <td>TV</td>\n",
       "      <td>23.652523</td>\n",
       "    </tr>\n",
       "    <tr>\n",
       "      <th>1</th>\n",
       "      <td>radio</td>\n",
       "      <td>12.171115</td>\n",
       "    </tr>\n",
       "    <tr>\n",
       "      <th>2</th>\n",
       "      <td>newspaper</td>\n",
       "      <td>5.586619</td>\n",
       "    </tr>\n",
       "  </tbody>\n",
       "</table>\n",
       "</div>"
      ],
      "text/plain": [
       "     feature        VIF\n",
       "0         TV  23.652523\n",
       "1      radio  12.171115\n",
       "2  newspaper   5.586619"
      ]
     },
     "execution_count": 110,
     "metadata": {},
     "output_type": "execute_result"
    }
   ],
   "source": [
    "vif_data"
   ]
  },
  {
   "cell_type": "markdown",
   "id": "8a882f13",
   "metadata": {},
   "source": [
    "Multicollinearity exists, but removing even a single feature can result in a huge data loss as this dataset is really small to pass on the risk of MC on the model. Hence, we'll leave it as it is.  "
   ]
  },
  {
   "cell_type": "markdown",
   "id": "6cb8e9ba",
   "metadata": {},
   "source": [
    "We can proceed to the next step, of model making"
   ]
  },
  {
   "cell_type": "code",
   "execution_count": 167,
   "id": "41ca8145",
   "metadata": {},
   "outputs": [],
   "source": [
    "x = df_new.iloc[:,:-1]   #independent feaures\n",
    "\n",
    "y = df_new.iloc[:,-1]  #dependent/target feature"
   ]
  },
  {
   "cell_type": "code",
   "execution_count": 170,
   "id": "7c48cf55",
   "metadata": {},
   "outputs": [
    {
     "data": {
      "text/html": [
       "<div>\n",
       "<style scoped>\n",
       "    .dataframe tbody tr th:only-of-type {\n",
       "        vertical-align: middle;\n",
       "    }\n",
       "\n",
       "    .dataframe tbody tr th {\n",
       "        vertical-align: top;\n",
       "    }\n",
       "\n",
       "    .dataframe thead th {\n",
       "        text-align: right;\n",
       "    }\n",
       "</style>\n",
       "<table border=\"1\" class=\"dataframe\">\n",
       "  <thead>\n",
       "    <tr style=\"text-align: right;\">\n",
       "      <th></th>\n",
       "      <th>TV</th>\n",
       "      <th>radio</th>\n",
       "      <th>newspaper</th>\n",
       "    </tr>\n",
       "  </thead>\n",
       "  <tbody>\n",
       "    <tr>\n",
       "      <th>0</th>\n",
       "      <td>230.1</td>\n",
       "      <td>37.8</td>\n",
       "      <td>69.2</td>\n",
       "    </tr>\n",
       "    <tr>\n",
       "      <th>1</th>\n",
       "      <td>44.5</td>\n",
       "      <td>39.3</td>\n",
       "      <td>45.1</td>\n",
       "    </tr>\n",
       "    <tr>\n",
       "      <th>2</th>\n",
       "      <td>17.2</td>\n",
       "      <td>45.9</td>\n",
       "      <td>69.3</td>\n",
       "    </tr>\n",
       "    <tr>\n",
       "      <th>3</th>\n",
       "      <td>151.5</td>\n",
       "      <td>41.3</td>\n",
       "      <td>58.5</td>\n",
       "    </tr>\n",
       "    <tr>\n",
       "      <th>4</th>\n",
       "      <td>180.8</td>\n",
       "      <td>10.8</td>\n",
       "      <td>58.4</td>\n",
       "    </tr>\n",
       "    <tr>\n",
       "      <th>...</th>\n",
       "      <td>...</td>\n",
       "      <td>...</td>\n",
       "      <td>...</td>\n",
       "    </tr>\n",
       "    <tr>\n",
       "      <th>195</th>\n",
       "      <td>38.2</td>\n",
       "      <td>3.7</td>\n",
       "      <td>13.8</td>\n",
       "    </tr>\n",
       "    <tr>\n",
       "      <th>196</th>\n",
       "      <td>94.2</td>\n",
       "      <td>4.9</td>\n",
       "      <td>8.1</td>\n",
       "    </tr>\n",
       "    <tr>\n",
       "      <th>197</th>\n",
       "      <td>177.0</td>\n",
       "      <td>9.3</td>\n",
       "      <td>6.4</td>\n",
       "    </tr>\n",
       "    <tr>\n",
       "      <th>198</th>\n",
       "      <td>283.6</td>\n",
       "      <td>42.0</td>\n",
       "      <td>66.2</td>\n",
       "    </tr>\n",
       "    <tr>\n",
       "      <th>199</th>\n",
       "      <td>232.1</td>\n",
       "      <td>8.6</td>\n",
       "      <td>8.7</td>\n",
       "    </tr>\n",
       "  </tbody>\n",
       "</table>\n",
       "<p>198 rows × 3 columns</p>\n",
       "</div>"
      ],
      "text/plain": [
       "        TV  radio  newspaper\n",
       "0    230.1   37.8       69.2\n",
       "1     44.5   39.3       45.1\n",
       "2     17.2   45.9       69.3\n",
       "3    151.5   41.3       58.5\n",
       "4    180.8   10.8       58.4\n",
       "..     ...    ...        ...\n",
       "195   38.2    3.7       13.8\n",
       "196   94.2    4.9        8.1\n",
       "197  177.0    9.3        6.4\n",
       "198  283.6   42.0       66.2\n",
       "199  232.1    8.6        8.7\n",
       "\n",
       "[198 rows x 3 columns]"
      ]
     },
     "execution_count": 170,
     "metadata": {},
     "output_type": "execute_result"
    }
   ],
   "source": [
    "x"
   ]
  },
  {
   "cell_type": "code",
   "execution_count": 169,
   "id": "ee7cd0e0",
   "metadata": {},
   "outputs": [
    {
     "data": {
      "text/plain": [
       "0      22.1\n",
       "1      10.4\n",
       "2       9.3\n",
       "3      18.5\n",
       "4      12.9\n",
       "       ... \n",
       "195     7.6\n",
       "196     9.7\n",
       "197    12.8\n",
       "198    25.5\n",
       "199    13.4\n",
       "Name: sales, Length: 198, dtype: float64"
      ]
     },
     "execution_count": 169,
     "metadata": {},
     "output_type": "execute_result"
    }
   ],
   "source": [
    "y"
   ]
  },
  {
   "cell_type": "code",
   "execution_count": 171,
   "id": "2b63eac6",
   "metadata": {},
   "outputs": [],
   "source": [
    "xtrain, xtest, ytrain, ytest = train_test_split(x, y, test_size=0.2, random_state=42)"
   ]
  },
  {
   "cell_type": "markdown",
   "id": "13113efe",
   "metadata": {},
   "source": [
    "# Model 1 : Linear Regression"
   ]
  },
  {
   "cell_type": "code",
   "execution_count": 194,
   "id": "2b527339",
   "metadata": {
    "scrolled": true
   },
   "outputs": [],
   "source": [
    "lr = LinearRegression()\n",
    "lr.fit(xtrain, ytrain)\n",
    "pred_lr= lr.predict(xtest)"
   ]
  },
  {
   "cell_type": "code",
   "execution_count": 195,
   "id": "a315e55e",
   "metadata": {
    "scrolled": true
   },
   "outputs": [
    {
     "name": "stdout",
     "output_type": "stream",
     "text": [
      "At cv=  2\n",
      "Cross Val score :  88.86177292201751\n",
      "r2 score is :  89.89454779619588\n",
      "\n",
      "\n",
      "At cv=  3\n",
      "Cross Val score :  88.90406332045909\n",
      "r2 score is :  89.89454779619588\n",
      "\n",
      "\n",
      "At cv=  4\n",
      "Cross Val score :  88.80501918930908\n",
      "r2 score is :  89.89454779619588\n",
      "\n",
      "\n",
      "At cv=  5\n",
      "Cross Val score :  88.53605756683912\n",
      "r2 score is :  89.89454779619588\n",
      "\n",
      "\n",
      "At cv=  6\n",
      "Cross Val score :  88.68174285063071\n",
      "r2 score is :  89.89454779619588\n",
      "\n",
      "\n",
      "At cv=  7\n",
      "Cross Val score :  88.3828289486476\n",
      "r2 score is :  89.89454779619588\n",
      "\n",
      "\n",
      "At cv=  8\n",
      "Cross Val score :  88.80334554150218\n",
      "r2 score is :  89.89454779619588\n",
      "\n",
      "\n",
      "At cv=  9\n",
      "Cross Val score :  88.10485430282272\n",
      "r2 score is :  89.89454779619588\n",
      "\n",
      "\n"
     ]
    }
   ],
   "source": [
    "from sklearn.metrics import r2_score\n",
    "from sklearn.model_selection import cross_val_score\n",
    "lrr2 = r2_score(ytest,pred_lr)\n",
    "\n",
    "for k in range(2,10):\n",
    "    lsscore=cross_val_score(lr,x,y,cv=k)\n",
    "    lrcv=lsscore.mean()\n",
    "    print(\"At cv= \",k)\n",
    "    print(\"Cross Val score : \",lrcv*100)\n",
    "    print(\"r2 score is : \",lrr2*100)\n",
    "    print(\"\\n\")"
   ]
  },
  {
   "cell_type": "markdown",
   "id": "8e1abc22",
   "metadata": {},
   "source": [
    "Hence we can choose cv to be 3 , where cv score is the max."
   ]
  },
  {
   "cell_type": "code",
   "execution_count": 185,
   "id": "b3fffb49",
   "metadata": {},
   "outputs": [
    {
     "name": "stdout",
     "output_type": "stream",
     "text": [
      "The cv score is:  0.8890406332045909 \n",
      "The r2 score is:  0.8989454779619588\n"
     ]
    }
   ],
   "source": [
    "lsscore_selected = cross_val_score(lr,x,y,cv = 3).mean()\n",
    "print(\"The cv score is: \", lsscore_selected, \"\\nThe r2 score is: \",lrr2)"
   ]
  },
  {
   "cell_type": "markdown",
   "id": "716ab451",
   "metadata": {},
   "source": [
    "# Model 2: Ridge Regression"
   ]
  },
  {
   "cell_type": "code",
   "execution_count": 193,
   "id": "227698c2",
   "metadata": {},
   "outputs": [
    {
     "name": "stdout",
     "output_type": "stream",
     "text": [
      "Best Estimators for Ridge Regression:  Ridge(alpha=1, solver='sag')\n",
      "------------------------------------------\n"
     ]
    }
   ],
   "source": [
    "from sklearn.model_selection import GridSearchCV\n",
    "from sklearn.linear_model import Ridge\n",
    "rid_reg_params = {\"alpha\":[1,10],\"solver\":[\"auto\", \"svd\", \"cholesky\", \"lsqr\", \"sparse_cg\", \"sag\", \"saga\", \"lbfgs\"]}\n",
    "grid_rid_reg = GridSearchCV(Ridge(), rid_reg_params)\n",
    "grid_rid_reg.fit(xtrain, ytrain)\n",
    "\n",
    "rid_reg = grid_rid_reg.best_estimator_\n",
    "print(\"Best Estimators for Ridge Regression: \", rid_reg)\n",
    "\n",
    "print(\"------------------------------------------\")"
   ]
  },
  {
   "cell_type": "code",
   "execution_count": 198,
   "id": "22d68496",
   "metadata": {},
   "outputs": [],
   "source": [
    "ridge = Ridge(alpha=1,solver=\"sag\")\n",
    "ridge.fit(xtrain, ytrain)\n",
    "pred_ridge= ridge.predict(xtest)"
   ]
  },
  {
   "cell_type": "code",
   "execution_count": 210,
   "id": "345fce6f",
   "metadata": {
    "scrolled": true
   },
   "outputs": [
    {
     "name": "stdout",
     "output_type": "stream",
     "text": [
      "At cv=  2\n",
      "Cross Val score :  84.56963763661525\n",
      "r2 score is :  89.9029886648175\n",
      "\n",
      "\n",
      "At cv=  3\n",
      "Cross Val score :  84.34899616619674\n",
      "r2 score is :  89.9029886648175\n",
      "\n",
      "\n",
      "At cv=  4\n",
      "Cross Val score :  84.42316934150647\n",
      "r2 score is :  89.9029886648175\n",
      "\n",
      "\n",
      "At cv=  5\n",
      "Cross Val score :  84.2268622464806\n",
      "r2 score is :  89.9029886648175\n",
      "\n",
      "\n",
      "At cv=  6\n",
      "Cross Val score :  84.13590653791307\n",
      "r2 score is :  89.9029886648175\n",
      "\n",
      "\n",
      "At cv=  7\n",
      "Cross Val score :  83.72094014680692\n",
      "r2 score is :  89.9029886648175\n",
      "\n",
      "\n",
      "At cv=  8\n",
      "Cross Val score :  84.04644844779018\n",
      "r2 score is :  89.9029886648175\n",
      "\n",
      "\n",
      "At cv=  9\n",
      "Cross Val score :  83.52036558439347\n",
      "r2 score is :  89.9029886648175\n",
      "\n",
      "\n"
     ]
    }
   ],
   "source": [
    "ridr2 = r2_score(ytest,pred_ridge)\n",
    "\n",
    "for k in range(2,10):\n",
    "    ridscore=cross_val_score(ridge,x,y,cv=k)\n",
    "    ridcv=ridscore.mean()\n",
    "    print(\"At cv= \",k)\n",
    "    print(\"Cross Val score : \",ridcv*100)\n",
    "    print(\"r2 score is : \",ridr2*100)\n",
    "    print(\"\\n\")"
   ]
  },
  {
   "cell_type": "code",
   "execution_count": 211,
   "id": "0d392ba2",
   "metadata": {},
   "outputs": [
    {
     "name": "stdout",
     "output_type": "stream",
     "text": [
      "The cv score is:  0.8456963763661526 \n",
      "The r2 score is:  0.899029886648175\n"
     ]
    }
   ],
   "source": [
    "ridscore_selected = cross_val_score(ridge,x,y,cv = 2).mean()\n",
    "print(\"The cv score is: \", ridscore_selected, \"\\nThe r2 score is: \",ridr2)"
   ]
  },
  {
   "cell_type": "markdown",
   "id": "7da79e0c",
   "metadata": {},
   "source": [
    "# Model 3 : Decision Tree Regression"
   ]
  },
  {
   "cell_type": "code",
   "execution_count": 206,
   "id": "be776b34",
   "metadata": {},
   "outputs": [
    {
     "name": "stdout",
     "output_type": "stream",
     "text": [
      "Best Estimators for Decision Tree Regression:  {'criterion': 'friedman_mse', 'max_depth': 6, 'max_leaf_nodes': 100, 'min_samples_leaf': 20, 'min_samples_split': 20}\n",
      "------------------------------------------\n"
     ]
    }
   ],
   "source": [
    "from sklearn.tree import DecisionTreeRegressor\n",
    "dt_reg_params = {\"criterion\": [\"squared_error\", \"friedman_mse\", \"absolute_error\", \"poisson\"],\n",
    "              \"min_samples_split\": [10, 20, 40],\n",
    "              \"max_depth\": [2, 6, 8],\n",
    "              \"min_samples_leaf\": [20, 40, 100],\n",
    "              \"max_leaf_nodes\": [5, 20, 100],\n",
    "              }\n",
    "grid_dt_reg = GridSearchCV(DecisionTreeRegressor(), dt_reg_params)\n",
    "grid_dt_reg.fit(xtrain, ytrain)\n",
    "\n",
    "dt_reg = grid_dt_reg.best_estimator_\n",
    "print(\"Best Estimators for Decision Tree Regression: \", grid_dt_reg.best_params_)\n",
    "\n",
    "print(\"------------------------------------------\")"
   ]
  },
  {
   "cell_type": "code",
   "execution_count": 205,
   "id": "ddecf53c",
   "metadata": {},
   "outputs": [
    {
     "name": "stdout",
     "output_type": "stream",
     "text": [
      "best r2 score:  0.7300791969126935\n"
     ]
    }
   ],
   "source": [
    "print(\"best r2 score: \",grid_dt_reg.best_score_)"
   ]
  },
  {
   "cell_type": "code",
   "execution_count": 208,
   "id": "6107705f",
   "metadata": {},
   "outputs": [],
   "source": [
    "dtr = DecisionTreeRegressor(criterion='friedman_mse', max_depth= 6, max_leaf_nodes= 100, min_samples_leaf= 20, min_samples_split= 20)\n",
    "dtr.fit(xtrain, ytrain)\n",
    "pred_dtr= dtr.predict(xtest)"
   ]
  },
  {
   "cell_type": "code",
   "execution_count": 212,
   "id": "bb7b79cb",
   "metadata": {
    "scrolled": true
   },
   "outputs": [
    {
     "name": "stdout",
     "output_type": "stream",
     "text": [
      "At cv=  2\n",
      "Cross Val score :  74.99789805440297\n",
      "r2 score is :  87.83893294740938\n",
      "\n",
      "\n",
      "At cv=  3\n",
      "Cross Val score :  78.82864480620114\n",
      "r2 score is :  87.83893294740938\n",
      "\n",
      "\n",
      "At cv=  4\n",
      "Cross Val score :  82.73331885268223\n",
      "r2 score is :  87.83893294740938\n",
      "\n",
      "\n",
      "At cv=  5\n",
      "Cross Val score :  83.03622438952712\n",
      "r2 score is :  87.83893294740938\n",
      "\n",
      "\n",
      "At cv=  6\n",
      "Cross Val score :  82.94885309080735\n",
      "r2 score is :  87.83893294740938\n",
      "\n",
      "\n",
      "At cv=  7\n",
      "Cross Val score :  83.69051759360617\n",
      "r2 score is :  87.83893294740938\n",
      "\n",
      "\n",
      "At cv=  8\n",
      "Cross Val score :  84.11654644868459\n",
      "r2 score is :  87.83893294740938\n",
      "\n",
      "\n",
      "At cv=  9\n",
      "Cross Val score :  84.67089387949758\n",
      "r2 score is :  87.83893294740938\n",
      "\n",
      "\n"
     ]
    }
   ],
   "source": [
    "dtrr2 = r2_score(ytest,pred_dtr)\n",
    "\n",
    "for k in range(2,10):\n",
    "    dtrscore=cross_val_score(dtr,x,y,cv=k)\n",
    "    dtrcv=dtrscore.mean()\n",
    "    print(\"At cv= \",k)\n",
    "    print(\"Cross Val score : \",dtrcv*100)\n",
    "    print(\"r2 score is : \",dtrr2*100)\n",
    "    print(\"\\n\")"
   ]
  },
  {
   "cell_type": "markdown",
   "id": "39021f90",
   "metadata": {},
   "source": [
    "At cv = 9 , The cross validation is 84.7% ; \n",
    "The r2 score is 87.8%"
   ]
  },
  {
   "cell_type": "markdown",
   "id": "d5881940",
   "metadata": {},
   "source": [
    "# Model 4 : Random Forest Regressor"
   ]
  },
  {
   "cell_type": "code",
   "execution_count": 215,
   "id": "afb2ff96",
   "metadata": {},
   "outputs": [
    {
     "name": "stdout",
     "output_type": "stream",
     "text": [
      "RandomForestRegressor(criterion='poisson', max_depth=10, max_features='log2',\n",
      "                      n_estimators=150)\n",
      "Best Estimators for Decision Tree Regression:  {'criterion': 'poisson', 'max_depth': 10, 'max_features': 'log2', 'n_estimators': 150}\n",
      "------------------------------------------\n"
     ]
    }
   ],
   "source": [
    "from sklearn.ensemble import RandomForestRegressor\n",
    "rf_reg_params =  { 'max_depth': [5,7,10], \"criterion\": [\"squared_error\", \"absolute_error\", \"poisson\"],\n",
    "                  'max_features': ['auto', 'log2','sqrt'], 'n_estimators': [50,100,150,200]}\n",
    "grid_rf_reg = GridSearchCV(RandomForestRegressor(), rf_reg_params)\n",
    "\n",
    "grid_rf_reg.fit(xtrain, ytrain)\n",
    "\n",
    "rf_reg = grid_rf_reg.best_estimator_\n",
    "print(rf_reg)\n",
    "print(\"Best Estimators for Decision Tree Regression: \", grid_rf_reg.best_params_)\n",
    "\n",
    "print(\"------------------------------------------\")"
   ]
  },
  {
   "cell_type": "code",
   "execution_count": 219,
   "id": "3f557050",
   "metadata": {},
   "outputs": [
    {
     "name": "stdout",
     "output_type": "stream",
     "text": [
      "best r2 score:  0.52458858998389\n"
     ]
    }
   ],
   "source": [
    "print(\"best r2 score: \",grid_rf_reg.best_score_)"
   ]
  },
  {
   "cell_type": "code",
   "execution_count": 216,
   "id": "77b18bde",
   "metadata": {},
   "outputs": [],
   "source": [
    "rf = RandomForestRegressor(criterion='poisson', max_depth=10, max_features='log2', n_estimators=150)\n",
    "rf.fit(xtrain, ytrain)\n",
    "pred_rf= rf.predict(xtest)"
   ]
  },
  {
   "cell_type": "code",
   "execution_count": 218,
   "id": "52b3e102",
   "metadata": {
    "scrolled": true
   },
   "outputs": [
    {
     "name": "stdout",
     "output_type": "stream",
     "text": [
      "At cv=  2\n",
      "Cross Val score :  48.54165810875813\n",
      "r2 score is :  51.8073503527825\n",
      "\n",
      "\n",
      "At cv=  3\n",
      "Cross Val score :  51.93598501095947\n",
      "r2 score is :  51.8073503527825\n",
      "\n",
      "\n",
      "At cv=  4\n",
      "Cross Val score :  50.242498740683786\n",
      "r2 score is :  51.8073503527825\n",
      "\n",
      "\n",
      "At cv=  5\n",
      "Cross Val score :  50.549090573565024\n",
      "r2 score is :  51.8073503527825\n",
      "\n",
      "\n",
      "At cv=  6\n",
      "Cross Val score :  49.140580376416246\n",
      "r2 score is :  51.8073503527825\n",
      "\n",
      "\n",
      "At cv=  7\n",
      "Cross Val score :  49.88154685977047\n",
      "r2 score is :  51.8073503527825\n",
      "\n",
      "\n",
      "At cv=  8\n",
      "Cross Val score :  49.6010832037627\n",
      "r2 score is :  51.8073503527825\n",
      "\n",
      "\n",
      "At cv=  9\n",
      "Cross Val score :  48.736210070373936\n",
      "r2 score is :  51.8073503527825\n",
      "\n",
      "\n"
     ]
    }
   ],
   "source": [
    "rfr2 = r2_score(ytest,pred_rf)\n",
    "\n",
    "for k in range(2,10):\n",
    "    rfscore=cross_val_score(rf,x,y,cv=k)\n",
    "    rfcv=rfscore.mean()\n",
    "    print(\"At cv= \",k)\n",
    "    print(\"Cross Val score : \",rfcv*100)\n",
    "    print(\"r2 score is : \",rfr2*100)\n",
    "    print(\"\\n\")"
   ]
  },
  {
   "cell_type": "markdown",
   "id": "68a6f70b",
   "metadata": {},
   "source": [
    "At CV = 3 , Cross validation score is 51.9% whereas the r2 score is 51.8 % which is the lowest among the 4 models."
   ]
  },
  {
   "cell_type": "markdown",
   "id": "a370b970",
   "metadata": {},
   "source": [
    "We can see that the ridge regression is the best model among these with an r2 score of 89.9% which is marginally better than linear regression."
   ]
  },
  {
   "cell_type": "markdown",
   "id": "99902c65",
   "metadata": {},
   "source": [
    "# Saving the model"
   ]
  },
  {
   "cell_type": "code",
   "execution_count": 221,
   "id": "b6568a90",
   "metadata": {},
   "outputs": [],
   "source": [
    "import pickle\n",
    "filename = \"Advert_Sales_pred.pkl\"\n",
    "pickle.dump(ridge,open(filename,'wb'))"
   ]
  },
  {
   "cell_type": "markdown",
   "id": "319cf9f7",
   "metadata": {},
   "source": [
    "# Conclusion"
   ]
  },
  {
   "cell_type": "code",
   "execution_count": 226,
   "id": "f66b675f",
   "metadata": {},
   "outputs": [
    {
     "data": {
      "text/html": [
       "<div>\n",
       "<style scoped>\n",
       "    .dataframe tbody tr th:only-of-type {\n",
       "        vertical-align: middle;\n",
       "    }\n",
       "\n",
       "    .dataframe tbody tr th {\n",
       "        vertical-align: top;\n",
       "    }\n",
       "\n",
       "    .dataframe thead th {\n",
       "        text-align: right;\n",
       "    }\n",
       "</style>\n",
       "<table border=\"1\" class=\"dataframe\">\n",
       "  <thead>\n",
       "    <tr style=\"text-align: right;\">\n",
       "      <th></th>\n",
       "      <th>original</th>\n",
       "      <th>predicted</th>\n",
       "    </tr>\n",
       "  </thead>\n",
       "  <tbody>\n",
       "    <tr>\n",
       "      <th>0</th>\n",
       "      <td>9.5</td>\n",
       "      <td>8.882314</td>\n",
       "    </tr>\n",
       "    <tr>\n",
       "      <th>1</th>\n",
       "      <td>12.2</td>\n",
       "      <td>12.010933</td>\n",
       "    </tr>\n",
       "    <tr>\n",
       "      <th>2</th>\n",
       "      <td>24.4</td>\n",
       "      <td>23.234398</td>\n",
       "    </tr>\n",
       "    <tr>\n",
       "      <th>3</th>\n",
       "      <td>10.4</td>\n",
       "      <td>8.917673</td>\n",
       "    </tr>\n",
       "    <tr>\n",
       "      <th>4</th>\n",
       "      <td>7.3</td>\n",
       "      <td>10.450052</td>\n",
       "    </tr>\n",
       "    <tr>\n",
       "      <th>5</th>\n",
       "      <td>24.7</td>\n",
       "      <td>21.905014</td>\n",
       "    </tr>\n",
       "    <tr>\n",
       "      <th>6</th>\n",
       "      <td>20.1</td>\n",
       "      <td>19.211149</td>\n",
       "    </tr>\n",
       "    <tr>\n",
       "      <th>7</th>\n",
       "      <td>11.9</td>\n",
       "      <td>11.450353</td>\n",
       "    </tr>\n",
       "    <tr>\n",
       "      <th>8</th>\n",
       "      <td>14.6</td>\n",
       "      <td>14.096132</td>\n",
       "    </tr>\n",
       "    <tr>\n",
       "      <th>9</th>\n",
       "      <td>15.0</td>\n",
       "      <td>17.820277</td>\n",
       "    </tr>\n",
       "    <tr>\n",
       "      <th>10</th>\n",
       "      <td>14.4</td>\n",
       "      <td>14.241422</td>\n",
       "    </tr>\n",
       "    <tr>\n",
       "      <th>11</th>\n",
       "      <td>22.4</td>\n",
       "      <td>20.795003</td>\n",
       "    </tr>\n",
       "    <tr>\n",
       "      <th>12</th>\n",
       "      <td>5.5</td>\n",
       "      <td>8.625426</td>\n",
       "    </tr>\n",
       "    <tr>\n",
       "      <th>13</th>\n",
       "      <td>13.2</td>\n",
       "      <td>12.722173</td>\n",
       "    </tr>\n",
       "    <tr>\n",
       "      <th>14</th>\n",
       "      <td>9.4</td>\n",
       "      <td>6.642960</td>\n",
       "    </tr>\n",
       "    <tr>\n",
       "      <th>15</th>\n",
       "      <td>10.6</td>\n",
       "      <td>9.014527</td>\n",
       "    </tr>\n",
       "    <tr>\n",
       "      <th>16</th>\n",
       "      <td>6.6</td>\n",
       "      <td>10.665864</td>\n",
       "    </tr>\n",
       "    <tr>\n",
       "      <th>17</th>\n",
       "      <td>10.6</td>\n",
       "      <td>12.603394</td>\n",
       "    </tr>\n",
       "    <tr>\n",
       "      <th>18</th>\n",
       "      <td>10.1</td>\n",
       "      <td>9.795261</td>\n",
       "    </tr>\n",
       "    <tr>\n",
       "      <th>19</th>\n",
       "      <td>12.0</td>\n",
       "      <td>11.515380</td>\n",
       "    </tr>\n",
       "    <tr>\n",
       "      <th>20</th>\n",
       "      <td>12.6</td>\n",
       "      <td>13.018840</td>\n",
       "    </tr>\n",
       "    <tr>\n",
       "      <th>21</th>\n",
       "      <td>18.0</td>\n",
       "      <td>17.123972</td>\n",
       "    </tr>\n",
       "    <tr>\n",
       "      <th>22</th>\n",
       "      <td>24.2</td>\n",
       "      <td>22.882239</td>\n",
       "    </tr>\n",
       "    <tr>\n",
       "      <th>23</th>\n",
       "      <td>6.7</td>\n",
       "      <td>6.130821</td>\n",
       "    </tr>\n",
       "    <tr>\n",
       "      <th>24</th>\n",
       "      <td>17.0</td>\n",
       "      <td>17.191945</td>\n",
       "    </tr>\n",
       "    <tr>\n",
       "      <th>25</th>\n",
       "      <td>22.3</td>\n",
       "      <td>20.939908</td>\n",
       "    </tr>\n",
       "    <tr>\n",
       "      <th>26</th>\n",
       "      <td>7.0</td>\n",
       "      <td>8.026215</td>\n",
       "    </tr>\n",
       "    <tr>\n",
       "      <th>27</th>\n",
       "      <td>11.9</td>\n",
       "      <td>14.652541</td>\n",
       "    </tr>\n",
       "    <tr>\n",
       "      <th>28</th>\n",
       "      <td>6.6</td>\n",
       "      <td>6.868354</td>\n",
       "    </tr>\n",
       "    <tr>\n",
       "      <th>29</th>\n",
       "      <td>11.7</td>\n",
       "      <td>12.281347</td>\n",
       "    </tr>\n",
       "    <tr>\n",
       "      <th>30</th>\n",
       "      <td>18.3</td>\n",
       "      <td>17.770005</td>\n",
       "    </tr>\n",
       "    <tr>\n",
       "      <th>31</th>\n",
       "      <td>14.2</td>\n",
       "      <td>13.693971</td>\n",
       "    </tr>\n",
       "    <tr>\n",
       "      <th>32</th>\n",
       "      <td>8.8</td>\n",
       "      <td>6.640487</td>\n",
       "    </tr>\n",
       "    <tr>\n",
       "      <th>33</th>\n",
       "      <td>13.6</td>\n",
       "      <td>14.359486</td>\n",
       "    </tr>\n",
       "    <tr>\n",
       "      <th>34</th>\n",
       "      <td>12.0</td>\n",
       "      <td>15.621803</td>\n",
       "    </tr>\n",
       "    <tr>\n",
       "      <th>35</th>\n",
       "      <td>19.6</td>\n",
       "      <td>18.202669</td>\n",
       "    </tr>\n",
       "    <tr>\n",
       "      <th>36</th>\n",
       "      <td>15.5</td>\n",
       "      <td>15.288102</td>\n",
       "    </tr>\n",
       "    <tr>\n",
       "      <th>37</th>\n",
       "      <td>11.7</td>\n",
       "      <td>11.956184</td>\n",
       "    </tr>\n",
       "    <tr>\n",
       "      <th>38</th>\n",
       "      <td>18.0</td>\n",
       "      <td>18.192654</td>\n",
       "    </tr>\n",
       "    <tr>\n",
       "      <th>39</th>\n",
       "      <td>16.6</td>\n",
       "      <td>16.243591</td>\n",
       "    </tr>\n",
       "  </tbody>\n",
       "</table>\n",
       "</div>"
      ],
      "text/plain": [
       "    original  predicted\n",
       "0        9.5   8.882314\n",
       "1       12.2  12.010933\n",
       "2       24.4  23.234398\n",
       "3       10.4   8.917673\n",
       "4        7.3  10.450052\n",
       "5       24.7  21.905014\n",
       "6       20.1  19.211149\n",
       "7       11.9  11.450353\n",
       "8       14.6  14.096132\n",
       "9       15.0  17.820277\n",
       "10      14.4  14.241422\n",
       "11      22.4  20.795003\n",
       "12       5.5   8.625426\n",
       "13      13.2  12.722173\n",
       "14       9.4   6.642960\n",
       "15      10.6   9.014527\n",
       "16       6.6  10.665864\n",
       "17      10.6  12.603394\n",
       "18      10.1   9.795261\n",
       "19      12.0  11.515380\n",
       "20      12.6  13.018840\n",
       "21      18.0  17.123972\n",
       "22      24.2  22.882239\n",
       "23       6.7   6.130821\n",
       "24      17.0  17.191945\n",
       "25      22.3  20.939908\n",
       "26       7.0   8.026215\n",
       "27      11.9  14.652541\n",
       "28       6.6   6.868354\n",
       "29      11.7  12.281347\n",
       "30      18.3  17.770005\n",
       "31      14.2  13.693971\n",
       "32       8.8   6.640487\n",
       "33      13.6  14.359486\n",
       "34      12.0  15.621803\n",
       "35      19.6  18.202669\n",
       "36      15.5  15.288102\n",
       "37      11.7  11.956184\n",
       "38      18.0  18.192654\n",
       "39      16.6  16.243591"
      ]
     },
     "execution_count": 226,
     "metadata": {},
     "output_type": "execute_result"
    }
   ],
   "source": [
    "h = np.array(ytest)\n",
    "predicted = np.array(pred_ridge)\n",
    "df_comp = pd.DataFrame({\"original\":h, \"predicted\":predicted},index=range(len(h)))\n",
    "df_comp"
   ]
  },
  {
   "cell_type": "code",
   "execution_count": 227,
   "id": "ea48c67f",
   "metadata": {},
   "outputs": [
    {
     "name": "stdout",
     "output_type": "stream",
     "text": [
      "the r2 score:  0.899029886648175\n"
     ]
    }
   ],
   "source": [
    "print(\"the r2 score: \",r2_score(ytest,pred_ridge))"
   ]
  }
 ],
 "metadata": {
  "kernelspec": {
   "display_name": "Python 3",
   "language": "python",
   "name": "python3"
  },
  "language_info": {
   "codemirror_mode": {
    "name": "ipython",
    "version": 3
   },
   "file_extension": ".py",
   "mimetype": "text/x-python",
   "name": "python",
   "nbconvert_exporter": "python",
   "pygments_lexer": "ipython3",
   "version": "3.8.8"
  }
 },
 "nbformat": 4,
 "nbformat_minor": 5
}
